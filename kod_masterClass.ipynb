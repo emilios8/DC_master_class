{
 "cells": [
  {
   "cell_type": "code",
   "execution_count": null,
   "id": "published-locking",
   "metadata": {},
   "outputs": [],
   "source": [
    "import pandas as pd\n",
    "pd.set_option('display.max_columns', 500)\n",
    "pd.set_option('display.float_format', lambda x: '%.3f' % x)\n",
    "import numpy as np\n",
    "from tqdm import tqdm\n",
    "import helper as h\n",
    "\n",
    "import xgboost as xgb\n",
    "from sklearn.model_selection import cross_val_score, KFold\n",
    "from sklearn.metrics import mean_absolute_error\n",
    "import re"
   ]
  },
  {
   "cell_type": "code",
   "execution_count": null,
   "id": "freelance-democrat",
   "metadata": {},
   "outputs": [],
   "source": [
    "df_train = pd.read_hdf(\"../input/df.train.h5\")\n",
    "df_train[\"price_value\"] = df_train['price_value'].map(h.parse_price)\n",
    "\n",
    "df_test = pd.read_hdf(\"../input/df.test.h5\")\n",
    "\n",
    "print(df_train.shape, df_test.shape)"
   ]
  },
  {
   "cell_type": "code",
   "execution_count": null,
   "id": "choice-archives",
   "metadata": {},
   "outputs": [],
   "source": [
    "df = h.get_df(df_train, df_test)"
   ]
  },
  {
   "cell_type": "code",
   "execution_count": null,
   "id": "entire-format",
   "metadata": {},
   "outputs": [],
   "source": [
    "cat_feats = [x for x in df.columns if \"_cat\" in x]\n",
    "cat_feats"
   ]
  },
  {
   "cell_type": "code",
   "execution_count": null,
   "id": "ceramic-confirmation",
   "metadata": {},
   "outputs": [],
   "source": [
    "df[\"year_production\"] = df[\"Rok produkcji\"].astype(int)\n",
    "df[\"year_production_ext\"] = df.apply(lambda x: x[\"year_production\"] if x[\"year_production\"] != -1 else int(x[\"Year\"]), axis=1)\n",
    "\n",
    "df[\"version_years\"] = df[\"Wersja\"].map(lambda x: re.findall(r'(\\d+)-(\\d+)?', str(x)) )\n",
    "\n",
    "df[\"version_year_from\"] = df[\"version_years\"].map(lambda x: x[0][0] if x else -1).astype(int)\n",
    "df[\"version_year_to\"] = df[\"version_years\"].map(lambda x: x[0][1] if x and x[0][1] != \"\" else -1).astype(int)"
   ]
  },
  {
   "cell_type": "code",
   "execution_count": null,
   "id": "delayed-hardwood",
   "metadata": {},
   "outputs": [],
   "source": [
    "feats = [\"year_production_ext\", \"version_year_from\", \"version_year_to\"] + cat_feats\n",
    "h.check_log_model(df, feats, xgb.XGBRegressor(max_depth=5, n_estimators=50, learning_rate=0.3, random_state=0))"
   ]
  },
  {
   "cell_type": "code",
   "execution_count": null,
   "id": "italic-criterion",
   "metadata": {},
   "outputs": [],
   "source": [
    "df[\"Pojemność skokowa\"]"
   ]
  },
  {
   "cell_type": "code",
   "execution_count": null,
   "id": "behind-discipline",
   "metadata": {},
   "outputs": [],
   "source": [
    "df[\"engine\"] = df[\"Pojemność skokowa\"].map(lambda x: str(x).split(\"cm3\")[0].replace(\" \", \"\")).astype(\"int\")\n",
    "df[\"engine\"].hist()"
   ]
  },
  {
   "cell_type": "code",
   "execution_count": null,
   "id": "historic-marker",
   "metadata": {},
   "outputs": [],
   "source": [
    "def reset_outlires(df, feat, prc=99):\n",
    "    cut_value = np.percentile(df[feat], prc)\n",
    "    \n",
    "    return df[feat].map(lambda x: x if x < cut_value else -1)"
   ]
  },
  {
   "cell_type": "code",
   "execution_count": null,
   "id": "infinite-wealth",
   "metadata": {},
   "outputs": [],
   "source": [
    "reset_outlires(df, \"engine\").hist();\n",
    "\n",
    "df[\"engine_99\"] = reset_outlires(df, \"engine\")"
   ]
  },
  {
   "cell_type": "code",
   "execution_count": null,
   "id": "sought-buffalo",
   "metadata": {},
   "outputs": [],
   "source": [
    "df[\"Moc\"]  "
   ]
  },
  {
   "cell_type": "code",
   "execution_count": null,
   "id": "minor-carter",
   "metadata": {},
   "outputs": [],
   "source": [
    "df[\"horse_power\"] = df[\"Moc\"].map(lambda x: str(x).split(\"KM\")[0].replace(\" \", \"\")).astype(\"int\")"
   ]
  },
  {
   "cell_type": "code",
   "execution_count": null,
   "id": "vocal-artist",
   "metadata": {},
   "outputs": [],
   "source": [
    "df[\"horse_power\"].hist()"
   ]
  },
  {
   "cell_type": "code",
   "execution_count": null,
   "id": "industrial-atmosphere",
   "metadata": {},
   "outputs": [],
   "source": [
    "reset_outlires(df, \"horse_power\").hist();\n",
    "\n",
    "df[\"horse_power_99\"] = reset_outlires(df, \"horse_power\")"
   ]
  },
  {
   "cell_type": "code",
   "execution_count": null,
   "id": "charged-lending",
   "metadata": {},
   "outputs": [],
   "source": [
    "feats = [\"year_production_ext\", \"version_year_from\", \"version_year_to\"] + cat_feats\n",
    "feats += [\"engine_99\", \"horse_power_99\"]\n",
    "\n",
    "h.check_log_model(df, feats, xgb.XGBRegressor(max_depth=10, n_estimators=50, learning_rate=0.3, random_state=0))"
   ]
  },
  {
   "cell_type": "code",
   "execution_count": null,
   "id": "hearing-documentary",
   "metadata": {},
   "outputs": [],
   "source": [
    "df['Zarejestrowany jako zabytek_cat'].value_counts()"
   ]
  },
  {
   "cell_type": "code",
   "execution_count": null,
   "id": "functional-triumph",
   "metadata": {
    "scrolled": true
   },
   "outputs": [],
   "source": [
    "cat_feats = ['Bezwypadkowy_cat',\n",
    " 'Pojemność skokowa_cat',\n",
    " 'Rodzaj paliwa_cat',\n",
    " 'Skrzynia biegów_cat',\n",
    " 'Pierwszy właściciel_cat',\n",
    " 'Przebieg_cat',\n",
    " 'Moc_cat',\n",
    " 'Metalik_cat',\n",
    " 'Typ_cat',\n",
    " 'Kolor_cat',\n",
    " 'Model pojazdu_cat',\n",
    " 'Serwisowany w ASO_cat',\n",
    " 'Napęd_cat',\n",
    " 'Rok produkcji_cat',\n",
    " 'Marka pojazdu_cat',\n",
    " 'Perłowy_cat',\n",
    " 'Uszkodzony_cat',\n",
    " 'Akryl (niemetalizowany)_cat',\n",
    " 'Tuning_cat',\n",
    " 'Kierownica po prawej (Anglik)_cat',\n",
    " 'Matowy_cat',\n",
    " 'Zarejestrowany jako zabytek_cat',\n",
    " 'abs_cat',\n",
    " 'elek_szyby_cat'\n",
    "            ]\n",
    "# 'Alarm']\n",
    "# 'czujnik_deszczu'"
   ]
  },
  {
   "cell_type": "code",
   "execution_count": null,
   "id": "hearing-command",
   "metadata": {},
   "outputs": [],
   "source": [
    "df.describe()"
   ]
  },
  {
   "cell_type": "code",
   "execution_count": null,
   "id": "later-burke",
   "metadata": {},
   "outputs": [],
   "source": [
    "#str(df['features'][0])\n",
    "# wydłubałem ABS z features\n",
    "df['abs_cat'] = (df['features'].map(lambda x: 1 if 'ABS' in x else 0)).astype(int)"
   ]
  },
  {
   "cell_type": "code",
   "execution_count": null,
   "id": "still-invitation",
   "metadata": {},
   "outputs": [],
   "source": [
    "#(df['features'].map(lambda x: 1 if 'Elektryczne szyby przednie' in x else 0)).value_counts()\n",
    "df['elek_szyby_cat'] = (df['features'].map(lambda x: 1 if 'Elektryczne szyby przednie' in x else 0)).astype(int)"
   ]
  },
  {
   "cell_type": "code",
   "execution_count": null,
   "id": "organized-paper",
   "metadata": {},
   "outputs": [],
   "source": [
    " \n",
    "#(df['features'].map(lambda x: 1 if 'Alarm' in x else 0)).astype(int)\n",
    "df['Alarm'] = (df['features'].map(lambda x: 1 if 'Alarm' in x else 0)).astype(int)\n",
    "df['Alarm'].value_counts()"
   ]
  },
  {
   "cell_type": "code",
   "execution_count": null,
   "id": "absolute-zoning",
   "metadata": {},
   "outputs": [],
   "source": [
    "%%time\n",
    "\n",
    "feats = [\"year_production_ext\", \"version_year_from\", \"version_year_to\"] + cat_feats\n",
    "feats += [\"engine_99\", \"horse_power_99\"]\n",
    "\n",
    "#10, 50, 0.3 - 7681.626360661877, 197.16127358219487\n",
    "#10, 75, 0.3 - 7638.219205992039, 201.46479441831838\n",
    "#10, 60, 0.3 - 7666.922779800343, 197.31304650271315\n",
    "#10, 40, 0.3 - 7731.081230752386, 187.79458476764736\n",
    "\n",
    "h.check_log_model(df, feats, xgb.XGBRegressor(max_depth=10, n_estimators=1000, learning_rate=0.1, random_state=0)) "
   ]
  },
  {
   "cell_type": "code",
   "execution_count": null,
   "id": "dimensional-alignment",
   "metadata": {},
   "outputs": [],
   "source": [
    "feats = [\"year_production_ext\", \"version_year_from\", \"version_year_to\"] + cat_feats\n",
    "feats += [\"engine_99\", \"horse_power_99\"]\n",
    "\n",
    "df_train = df[ ~df[\"price_value\"].isnull() ].copy()\n",
    "df_test = df[ df[\"price_value\"].isnull() ].copy()\n",
    "\n",
    "X_train = df_train[feats]\n",
    "y_train = df_train[\"price_value\"]\n",
    "y_log_train = np.log(y_train)\n",
    "\n",
    "X_test = df_test[feats]\n",
    "\n",
    "model = xgb.XGBRegressor(max_depth=10, n_estimators=70, learning_rate=0.29, random_state=0)\n",
    "model.fit(X_train, y_log_train)\n",
    "y_log_pred = model.predict(X_test)\n",
    "y_pred = np.exp(y_log_pred)\n",
    "\n",
    "\n",
    "df_test[\"price_value\"] = y_pred\n",
    "df_test[ [\"id\", \"price_value\"] ].to_csv(\"../output/xgb_log_year_production_engine_etc.csv\", index=False)"
   ]
  }
 ],
 "metadata": {
  "kernelspec": {
   "display_name": "Python 3",
   "language": "python",
   "name": "python3"
  },
  "language_info": {
   "codemirror_mode": {
    "name": "ipython",
    "version": 3
   },
   "file_extension": ".py",
   "mimetype": "text/x-python",
   "name": "python",
   "nbconvert_exporter": "python",
   "pygments_lexer": "ipython3",
   "version": "3.8.6"
  }
 },
 "nbformat": 4,
 "nbformat_minor": 5
}
